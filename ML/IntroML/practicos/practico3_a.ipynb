{
 "cells": [
  {
   "cell_type": "markdown",
   "metadata": {},
   "source": [
    "Copyright (c) 2019 [Georgina Flesia](georgina.flesia@unc.edu.ar)\n",
    "\n",
    "http://www.famaf.proed.unc.edu.ar/course/view.php?id=470\n",
    "\n"
   ]
  },
  {
   "cell_type": "markdown",
   "metadata": {},
   "source": [
    "# Python Machine Learning - Teoría bayesiana"
   ]
  },
  {
   "cell_type": "markdown",
   "metadata": {},
   "source": [
    "# Tercera semana Práctico 3"
   ]
  },
  {
   "cell_type": "markdown",
   "metadata": {},
   "source": [
    "Ejercicio 1.  En muchos problemas de clasificacion de patrones se tiene la opcion de asignar un\n",
    " patron a una de $c$ clases, o de rechazarlo como irreconocible. Si el costo de\n",
    " hacer esto ultimo no es demasiado alto, puede ser una accion deseable. Sea\n",
    "\n",
    "  $$\\lambda(\\alpha_i|\\omega_j)=\\left\\{\\begin{array}{ccc}\n",
    " 0& \\ &\\mbox{ si }i=j, \\ i,j=1,2,\\ldots,c\\\\\n",
    " \\lambda_r&&\\mbox{ si }i=c+1\\\\\n",
    " \\lambda_s&&\\mbox{ en otro caso}\\\\\n",
    "\\end{array}\\right.$$\n",
    "\n",
    " donde $\\lambda_r$ es la pérdida sufrida por la eleccion de rechazarlo, y $\\lambda_s$ es la\n",
    " pérdida incurrida por cometer un error. Mostrar que el riesgo mínimo se obtiene\n",
    " si decidimos $\\omega_i$ si $P(\\omega_i|x)\\geq P (\\omega_j|x)$ para todo $j$, y si $P(\\omega_i|x)\\geq 1-\\frac{\\lambda_r}{\\lambda_s}$, caso contrario, rechazar. ¿Que sucede si $\\lambda_r= 0$? ¿Que sucede si $\\lambda_r>\\lambda_s$?.\n"
   ]
  },
  {
   "cell_type": "markdown",
   "metadata": {},
   "source": [
    "**Respuesta**"
   ]
  },
  {
   "cell_type": "markdown",
   "metadata": {},
   "source": [
    "la funcion de perdida zero-uno definida en (18) \n",
    "\n",
    "  $$\\lambda(\\alpha_i|\\omega_j)=\\left\\{\\begin{array}{ccc}\n",
    " 0& \\mbox{ si }i=j,\\\\\n",
    " 1& \\mbox{ si }i \\neq j\\\\\n",
    "\\end{array}\\right.$$\n",
    "$$i,j=1,2,\\ldots,c$$\n",
    "\n",
    "y por (19)\n",
    "El riesgo asociado a la funcion de perdida es \n",
    "\n",
    "$$ R(\\alpha_i|x) = \\begin{array}\\displaystyle\\displaystyle\\sum_{j \\neq i}^cp(\\omega_j|x)\\\\\\end{array}$$\n",
    "\n",
    "$$ = 1 * \\begin{array}\\displaystyle\\displaystyle\\sum_{j \\neq i}^cp(\\omega_j|x)\\\\\\end{array}$$\n",
    "\n",
    "Para la función propuesta tendríamos\n",
    "$$ =  \\lambda_s  \\begin{array}\\displaystyle\\displaystyle\\sum_{j \\neq i}^cp(\\omega_j|x)\\\\\\end{array}$$\n",
    "\n",
    "$$ \\mbox{ con } i \\neq j\\$$\n",
    "\n",
    "\n",
    "$$ = \\lambda_s  [1 - P(\\omega_j | x)] $$\n",
    "\n",
    "La función de perdida para la elección correcta es:\n",
    "\n",
    "$$ \\lambda_s  [1 - P(\\omega_i | x)] $$\n",
    "\n",
    "luego:\n",
    "\n",
    "$$ \\lambda_s  [1 - P(\\omega_i | x)]  <= \\lambda_s  [1 - P(\\omega_j | x)] $$\n",
    "\n",
    "Si el costo de rechazar un patron por ser irreconocible es muy bajo, podemos postular:\n",
    "\n",
    "$$ \\lambda_r <= \\lambda_s  [1 - P(\\omega_i | x)] $$\n",
    "\n",
    "luego $$  -\\lambda_s[1 - P(\\omega_i | x)] >= -\\lambda_r $$\n",
    "\n",
    " $$  -[1 - P(\\omega_i | x)] >= - \\frac{\\lambda_r}{\\lambda_s} $$\n",
    " \n",
    " $$  -1 + P(\\omega_i | x) >= - \\frac{\\lambda_r}{\\lambda_s} $$\n",
    "\n",
    "$$ \n",
    " P(\\omega_i | x) >= 1 - \\frac{\\lambda_r}{\\lambda_s}$$\n",
    "\n",
    "Si $ {\\lambda_r} = 0 $ tendríamos que $ P(\\omega_i | x) >= 1 - \\frac{0}{\\lambda_s}$\n",
    "Es decir  $$ P(\\omega_i | x) >= 1 $$\n",
    "\n",
    "Lo cual indica que  ${\\lambda_r}$ siempre debe ser > 0\n",
    "\n",
    "\n",
    "Si $ {\\lambda_r} > {\\lambda_s} $ tendríamos que existe mayor probabilidad de rechazar patrones irreconocibles en lugar de asignarlos a otra clase incorectamente\n"
   ]
  },
  {
   "cell_type": "markdown",
   "metadata": {},
   "source": [
    "Ejercicio 2. Considere el problema de clasificacion con la opcion de rechazo como irreconocible.\n",
    "\n",
    "* (a)  Utilice los resultados del ejercicio anterior para demostrar que las siguientes funciones discriminantes son optimas para este tipo de problemas:\n",
    "\n",
    "$$g_i(x)=\\left\\{\\begin{array}{ccc}\n",
    " p(x|\\omega_i)P(\\omega_i)& \\ &\\mbox{ si }i=1,2,\\ldots,c\\\\\n",
    " \\displaystyle\\frac{\\lambda_s-\\lambda_r}{\\lambda_s}\\displaystyle\\sum_{j=1}^cp(x|\\omega_j)P(\\omega_j)&&\\mbox{ si }i=c+1\\\\\n",
    "\\end{array}\\right.$$\n",
    "\n",
    "* (b) Grafique esta funcion discriminante y las regiones de decision para el caso del problema unidimensional con dos clases, teniendo\n",
    "\n",
    "    * $x|\\omega_1\\sim \\mathcal{N}(1, 1)$,\n",
    "    *  $x|\\omega_2\\sim \\mathcal{N}(-1,1)$,\n",
    "    * $P(\\omega_1) =P(\\omega_2)=\\displaystyle\\frac12$, y\n",
    "    * $\\displaystyle\\frac{\\lambda_r}{\\lambda_s}=\\displaystyle\\frac14$\n",
    "\n",
    "* (c) Describa cualitativamente lo que sucede cuando $\\displaystyle\\frac{\\lambda_r}{\\lambda_s}$ se incrementa de $0$ a $1$.\n",
    "* (d) Repita el procedimiento para el caso\n",
    "\n",
    "    * $x|\\omega_1\\sim \\mathcal{N}(1, 1)$,\n",
    "    * $x|\\omega_2\\sim \\mathcal{N}\\left(0,\\displaystyle\\frac14\\right)$,\n",
    "    * $P(\\omega_1)=\\displaystyle\\frac13$, $P(\\omega_2)=\\displaystyle\\frac23$, y\n",
    "    * $\\displaystyle\\frac{\\lambda_r}{\\lambda_s}=\\displaystyle\\frac12$\n",
    "\n"
   ]
  },
  {
   "cell_type": "markdown",
   "metadata": {},
   "source": [
    "**Respuesta**"
   ]
  },
  {
   "cell_type": "markdown",
   "metadata": {},
   "source": [
    "a)\n",
    "Por (26) una posible función discriminante optima es:\n",
    "\n",
    "$$ g_i(x) = p(x|\\omega_i)p(\\omega_i)$$\n",
    "y la regla de decisión es:\n",
    "Elijo $\\omega_i$ si:\n",
    "\n",
    "$$ g_i(x) >= g_j(x)$$ \n",
    "$\\forall i \\neq j  $.\n",
    "Si i = c+1 no deberiamos seleccionar una region ya que la función de perdida indica que \n",
    "x no es reconocible y se debe rechazar ese patron. Por lo que actualizamos a $g_i(x)$ de la siguiente manera:\n",
    "\n",
    "\n",
    "$$ g_i(x) =\\left\\{\\begin{array}{ccc}\n",
    " p(x|\\omega_i)p(\\omega_i) & \\ &\\mbox{ si }i = 1\\ldots c\\\\\n",
    "\\displaystyle \\left(1 - \\frac{\\lambda_r}{\\lambda_s} \\right)p (x)&&\\mbox{ si }i=c+1\\\\\n",
    "\\end{array}\\right.$$\n",
    " \n",
    " \n",
    "\n",
    "=\n",
    "\n",
    "$$=\\left\\{\\begin{array}{ccc}\n",
    " p(x|\\omega_i)p(\\omega_i) & \\ &\\mbox{ si }i = 1\\ldots c\\\\\n",
    "\\displaystyle \\left(1 - \\frac{\\lambda_r}{\\lambda_s} \\right)\\displaystyle\\sum_{j=1}^cp(x|\\omega_j)P(\\omega_j)&&\\mbox{ si }i=c+1\\\\\n",
    "\\end{array}\\right.$$\n",
    "  \n",
    "=\n",
    "\n",
    "$$=\\left\\{\\begin{array}{ccc}\n",
    " p(x|\\omega_i)p(\\omega_i) & \\ &\\mbox{ si }i = 1\\ldots c\\\\\n",
    "\\displaystyle\\frac{\\lambda_s-\\lambda_r}{\\lambda_s}\\displaystyle\\sum_{j=1}^cp(x|\\omega_j)P(\\omega_j)&&\\mbox{ si }i=c+1\\\\\n",
    "\\end{array}\\right.$$\n",
    " \n",
    " "
   ]
  },
  {
   "cell_type": "markdown",
   "metadata": {},
   "source": [
    "b)"
   ]
  },
  {
   "cell_type": "markdown",
   "metadata": {},
   "source": [
    "$$ g_1(x) = p(x|\\omega_1)P(\\omega_1) = \\mathcal{N}(1, 1)\\displaystyle\\frac12$$\n",
    "\n",
    "$$ = \\frac1{\\sqrt2\\pi} e^ \\left[- \\frac12 \\left(\\frac{x - 1}{1}  \\right)^2  \\right]\\displaystyle\\frac12$$\n",
    "\n",
    "$$ = \\frac1{\\sqrt2\\pi} e^ \\left[- \\frac12 \\left(x - 1 \\right)^2  \\right]\\displaystyle\\frac12$$\n",
    "\n",
    "$$ = \\frac{e^\\left(- \\frac{(x - 1)^2}{2} \\right)\\displaystyle}{2\\sqrt2\\pi}$$\n",
    "\n",
    "\n",
    "\n",
    "$$  g_2(x) = p(x|\\omega_2)P(\\omega_2) = \\mathcal{N}(-1, 1)\\displaystyle\\frac12$$\n",
    "\n",
    "$$ = \\frac1{\\sqrt2\\pi} e^ \\left[- \\frac12 \\left(\\frac{x + 1}{1}  \\right)^2  \\right]\\displaystyle\\frac12$$\n",
    "\n",
    "$$ = \\frac{e^\\left(- \\frac{(x + 1)^2}{2}\\right) \\displaystyle}{2\\sqrt2\\pi}$$\n",
    "\n",
    "\n",
    "\n",
    "\n",
    "\n",
    "$$  gcplus1(x) = \\left( \\frac{\\lambda_s - \\lambda_r}{\\lambda_s}  \\right) \\left[ p(x|\\omega_1)P(\\omega_1) + p(x|\\omega_2)P(\\omega_2)  \\right] $$\n",
    "\n",
    "\n",
    "$$ = \\left(1 - \\frac14\\right) \\left[ \\frac{e^\\left[- \\frac{(x - 1)^2}{2}  \\right]\\displaystyle}{2\\sqrt2\\pi} + \\frac{e^\\left[- \\frac{(x + 1)^2}{2} \\right]\\displaystyle}{2\\sqrt2\\pi} \\right]$$\n",
    "\n",
    "\n",
    "$$ = \\left( \\frac34\\right) \\left(\\frac{1}{2\\sqrt2\\pi}\\right) \\left[ e^\\left[- \\frac{(x - 1)^2}{2}  \\right]\\displaystyle + e^\\left[- \\frac{(x + 1)^2}{2} \\right]\\displaystyle \\right]$$\n",
    "\n",
    "$$ = \\left(\\frac{3}{8\\sqrt2\\pi}\\right) \\left( e^\\left[- \\frac{(x - 1)^2}{2}  \\right]\\displaystyle + e^\\left[- \\frac{(x + 1)^2}{2} \\right]\\displaystyle \\right)$$\n"
   ]
  },
  {
   "cell_type": "code",
   "execution_count": 51,
   "metadata": {},
   "outputs": [
    {
     "data": {
      "text/plain": [
       "Text(0.5, 1.0, 'g1(x) vs g2(x) vs gc+1(x)')"
      ]
     },
     "execution_count": 51,
     "metadata": {},
     "output_type": "execute_result"
    },
    {
     "data": {
      "image/png": "[encoded data removed]",
      "text/plain": [
       "<Figure size 432x288 with 1 Axes>"
      ]
     },
     "metadata": {
      "needs_background": "light"
     },
     "output_type": "display_data"
    }
   ],
   "source": [
    "import numpy as np\n",
    "import matplotlib.pyplot as plt\n",
    "\n",
    "# g1(x)\n",
    "def g_1(x):\n",
    "    return np.exp(-(x-1)**2) / (2* np.sqrt(2* np.pi))\n",
    " \n",
    "# g2(x)\n",
    "def g_2(x):\n",
    "    return np.exp(-(x+1)**2) / (2* np.sqrt(2* np.pi))\n",
    "\n",
    "# g_c+1(x)\n",
    "def g_c_plus_1(x):\n",
    "    return 3/(8* np.sqrt(2* np.pi)) * (np.exp((-(x-1)**2)/2) + np.exp((-(x+1)**2)/2))\n",
    " \n",
    "plt.ylim(ymax = 0.2, ymin = 0)\n",
    "z = 4\n",
    "x = np.linspace(-z, z)\n",
    "y = g_1(x)\n",
    "plt.plot(x, y,  ls=\"--\",  label='g1(x)')\n",
    "legend = plt.legend(loc='upper left', shadow=True, fontsize='x-large')\n",
    "y = g_2(x)\n",
    "plt.plot(x, y,  ls=\"--\",   label='g2(x)')\n",
    "legend = plt.legend(loc='upper left', shadow=True, fontsize='x-large')\n",
    "y = g_c_plus_1(x)\n",
    "plt.plot(x, y,  ls=\"--\",   label='g_c+1(x)')\n",
    "legend = plt.legend(loc='upper left', shadow=True, fontsize='x-large')\n",
    "plt.title('g1(x) vs g2(x) vs gc+1(x)')\n"
   ]
  },
  {
   "cell_type": "markdown",
   "metadata": {},
   "source": [
    "d)"
   ]
  },
  {
   "cell_type": "markdown",
   "metadata": {},
   "source": [
    "$$ g_1(x) = p(x|\\omega_1)P(\\omega_1) = \\mathcal{N}(1, 1)\\displaystyle\\frac13$$\n",
    "\n",
    "$$ = \\frac1{\\sqrt2\\pi} e^ \\left[- \\frac12 \\left(\\frac{x - 1}{1}  \\right)^2  \\right]\\displaystyle\\frac13$$\n",
    "\n",
    "$$ = \\frac1{\\sqrt2\\pi} e^ \\left[- \\frac12 \\left(x - 1 \\right)^2  \\right]\\displaystyle\\frac13$$\n",
    "\n",
    "$$ = \\frac{e^\\left[- \\frac{\\left(x - 1 \\right)^2}{2}  \\right]\\displaystyle}{3\\sqrt2\\pi}$$\n",
    "\n",
    "\n",
    "\n",
    "$$  g_2(x) = p(x|\\omega_2)P(\\omega_2) = \\mathcal{N}(0, \\frac14)\\displaystyle\\frac23$$\n",
    "\n",
    "$$ = \\frac1{ 1/4\\sqrt2\\pi} e^ \\left[- \\frac12 \\left(\\frac{x - 0}{1/4}  \\right)^2  \\right]\\displaystyle\\frac23$$\n",
    "\n",
    "$$ = \\frac2{3/4\\sqrt2\\pi} e^ \\left[ \\frac{-x^2}{1/8} \\right]\\displaystyle$$\n",
    "\n",
    "$$ = \\frac{2e^\\left[\\frac{- x^2 }{1/8}  \\right]\\displaystyle}{3/4\\sqrt2\\pi}$$\n",
    "\n",
    "$$ = \\frac{8e^\\left[-8 x^2\\right]\\displaystyle}{3\\sqrt2\\pi}$$\n",
    "\n",
    "\n",
    "\n",
    "\n",
    "\n",
    "$$  gcplus1(x) = \\left( \\frac{\\lambda_s - \\lambda_r}{\\lambda_s}  \\right) \\left[ p(x|\\omega_1)P(\\omega_1) + p(x|\\omega_2)P(\\omega_2)  \\right] $$\n",
    "\n",
    "\n",
    "$$ = \\frac12 \\left[ \\frac{e^\\left[- \\left(x - 1 \\right)^2/2  \\right]\\displaystyle}{3\\sqrt2\\pi} + \\frac{8e^\\left[-8 x^2\\right]\\displaystyle}{3\\sqrt2\\pi} \\right]$$\n",
    "\n",
    "\n",
    "$$ = \\frac{e^\\left[- \\left(x - 1 \\right)^2/2 \\right] + 8e^\\left[-8 x^2\\right]\\displaystyle} {6\\sqrt2\\pi}$$\n",
    "\n"
   ]
  },
  {
   "cell_type": "code",
   "execution_count": 52,
   "metadata": {},
   "outputs": [
    {
     "data": {
      "text/plain": [
       "Text(0.5, 1.0, 'g1(x) vs g2(x) vs gc+1(x)')"
      ]
     },
     "execution_count": 52,
     "metadata": {},
     "output_type": "execute_result"
    },
    {
     "data": {
      "image/png": "[encoded data removed]",
      "text/plain": [
       "<Figure size 432x288 with 1 Axes>"
      ]
     },
     "metadata": {
      "needs_background": "light"
     },
     "output_type": "display_data"
    }
   ],
   "source": [
    "import numpy as np\n",
    "import matplotlib.pyplot as plt\n",
    "\n",
    "# g1(x)\n",
    "def g_1(x):\n",
    "    return np.exp(-(x-1)**2) / (3* np.sqrt(2* np.pi))\n",
    " \n",
    "# g2(x)\n",
    "def g_2(x):\n",
    "    return 8*np.exp(-8*(x**2)) / (3* np.sqrt(2* np.pi))\n",
    "\n",
    "# g_c+1(x)\n",
    "def g_c_plus_1(x):\n",
    "    return ((np.exp((-x-1)**2)) + 8*np.exp(-8*(x**2)))/ (6* np.sqrt(2* np.pi))\n",
    "                \n",
    "plt.ylim(ymax = 1.5, ymin = 0)\n",
    "z = 3\n",
    "x = np.linspace(-z, z)\n",
    "y = g_1(x)\n",
    "plt.plot(x, y,  ls=\"--\",  label='g1(x)')\n",
    "legend = plt.legend(loc='upper left', shadow=True, fontsize='x-large')\n",
    "y = g_2(x)\n",
    "plt.plot(x, y,  ls=\"--\",   label='g2(x)')\n",
    "legend = plt.legend(loc='upper left', shadow=True, fontsize='x-large')\n",
    "y = g_c_plus_1(x)\n",
    "plt.plot(x, y,  ls=\"--\",   label='g_c+1(x)')\n",
    "legend = plt.legend(loc='upper left', shadow=True, fontsize='x-large')\n",
    "plt.title('g1(x) vs g2(x) vs gc+1(x)')\n"
   ]
  },
  {
   "cell_type": "markdown",
   "metadata": {},
   "source": [
    "### Ejercicio 3. \n",
    "Verifique que en el caso Normal , asumiendo clases equiprobables, con la misma matriz de varianza covarianza, \n",
    "\n",
    "* a) $\\Sigma=\\sigma^2 I$ Maximizar $g_i(x)$ implica minimizar la distancia euclidea entre $x$ y $\\mu_i$\n",
    "\n",
    "* b) $\\Sigma$ no diagonal. Maximizar $g_i(x)$ implica minimizar la distancia de Mahalanobis entre $x$ y $\\mu_i$. \n",
    "\n",
    "* c) En una tarea de clasificacion de dos clases con dos caracteristicas, los vectores son generados por distribuciones normales que comparten la misma matriz de varianza covarianza  $\\Sigma= \\left(\\begin{array}{cc}\n",
    "1.1&0.3\\\\\n",
    " 0.3& 1.9\\end{array}\\right)$ y vectores de media $\\mu_1 =(0,0)$ y $\\mu_2=(3,3)$ respectivamente. Clasifique el vector $(1,2.2)$ acorde con el clasificador Bayesiano. Coincide dicha clase con la clase cuya media es la más cercana (usando la distancia Euclidea)?\n",
    "\n",
    "* d) Compute los ejes principales del elipse centrado en (0,0) que corresponde a la distanca de Mahalanobis $dm= \\sqrt 2.952$ del centro. \n",
    "\n",
    "\n",
    "\n",
    "\n",
    "\n",
    "\n"
   ]
  },
  {
   "cell_type": "markdown",
   "metadata": {},
   "source": [
    "# Ejercicio 4. \n",
    "\n",
    "* (a) Describa un procedimiento para generar muestras aleatorias de acuerdo a una distribucion normal\n",
    "$\\mathcal{N}_d(\\mu,\\Sigma)$, y un código Python (puede usar algun paquete). \n",
    "* (b) Describa un procedimiento que calcule la funcion discriminante para una distribucion normal dada y probabilidad a priori $P(\\omega_i)$, y un código Python (puede usar algun paquete).\n",
    "* (c) Describa un procedimiento que calcule la distancia euclidea entre dos puntos arbitrarios.\n",
    "* (d)  Escriba un procedimiento que calcule la distancia de Mahalanobis entre la media $\\mu$ y un punto arbitrario $x$, dada la matriz de covarianza $\\Sigma$.\n",
    "\n",
    "Puede usar \n",
    "\n",
    "https://scikit-learn.org/stable/auto_examples/classification/plot_lda_qda.html#sphx-glr-auto-examples-classification-plot-lda-qda-py\n",
    "\n"
   ]
  },
  {
   "cell_type": "markdown",
   "metadata": {},
   "source": [
    "\n",
    "\n",
    "# Ejercicio 5. \n",
    "\n",
    "Utilice el codigo del problema anterior para simular dos normales con $\\Sigma= \\left(\\begin{array}{cc}\n",
    "0&-0.23\\\\\n",
    " 0.83& .23\\end{array}\\right)$ y vectores de media $\\mu_1 =(0,0)$ y $\\mu_2=(1,1)$ respectivamente. \n",
    "\n",
    "* (a)  Supongamos que las probabilidades a priori de las dos primeras categorias son iguales ($P(\\omega_1)=P(\\omega_2)=\\displaystyle\\frac12$ y el diseño de un clasificador dicotomico para estas dos categorias utilizando solo el valor de caracteristica $X_1$.\n",
    "\n",
    "* (b) Determinar el error de entrenamiento empirico en sus muestras, es decir, el porcentaje de puntos mal clasificados, dividiendo el conjunto de $n=100$ muestras aleatoriamente en 80\\% entrenamiento 20\\% test. Repita incrementando los valores de $n$, $100\\leq n\\leq 10000$ en pasos de 100 y grafique el error empirico obtenido.  \n",
    "\n",
    "* (c) Utilice la cota de Bhattacharyya para acotar el error que obtendran los  patrones nuevos obtenidos muestreando las distribuciones.\n",
    "\n",
    "* (d) Repita todo lo anterior, pero ahora utilice dos caracteristicas, $X_1$ y $X_2$.\n",
    "\n",
    "* (e) Analice sus resultados. En particular, ¿es siempre posible para un conjunto finito de datos que  el error empirico pueda ser mayor al aumentar la dimension de los datos?.\n",
    "\n",
    "\n"
   ]
  },
  {
   "cell_type": "markdown",
   "metadata": {},
   "source": [
    "\n",
    "# Ejercicio 6. \n",
    "\n",
    "Considere el problema de clasificacion bidimensional en cuatro categorias con \n",
    "$x|\\omega_1\\sim \\mathcal{N}(\\mathbf{0},\\mathbf{I})$, $x |\\omega_2\\sim \\mathcal{N}\\left(\\left(\\begin{array}{c}\n",
    " 1\\\\\n",
    " 1\\end{array}\\right),\\mathbf{I}\\right)$, $x |\\omega_3\\sim \\mathcal{N}\\left(\\left(\\begin{array}{c}\n",
    " 1\\\\\n",
    " -3\\end{array}\\right),\\left(\\begin{array}{cc}\n",
    " 2&0.5\\\\\n",
    " 0.5&2\\end{array}\\right)\\right)$ y $x |\\omega_4\\sim \\mathcal{N}\\left(\\left(\\begin{array}{c}\n",
    " 1\\\\\n",
    " 2\\end{array}\\right),\\left(\\begin{array}{cc}\n",
    " 5&4\\\\\n",
    " 4&5\\end{array}\\right)\\right)$ y $P (\\omega_i)=\\displaystyle\\frac14$ para todo i.\n",
    " \n",
    " * (a) ¿Cual es la distancia de Mahalanobis entre cada uno de los puntos $(1, 2)^T, (5, 3)^T, (0, 0)^T,\n",
    " (1, 0)^T$ y las medias de cada una de las clases.\n",
    " \n",
    "* (b) Clasificar estos puntos.\n",
    "\n",
    "* (c) Suponga que $P(\\omega_1)=0.7$ y $P(\\omega_2)=P(\\omega_3)=P(\\omega_4)=0.1$, y clasifique nuevamente los puntos.\n",
    "\n"
   ]
  },
  {
   "cell_type": "markdown",
   "metadata": {},
   "source": [
    "# Ejercicio 7. \n",
    "\n",
    "Explore como logra (o no) el error empirico acercarse a la cota de Bhattacharyya de la siguiente manera:\n",
    "* Escriba un procedimiento que genere muestras de una distribucion normal $\\mathcal{N}_d(\\mu,\\Sigma)$.\n",
    "* Considere $x|\\omega_1\\sim\\mathcal{N}\\left(\\left(\\begin{array}{c}\n",
    " 1\\\\\n",
    " 0\\end{array}\\right),\\mathbf{I}\\right)$, $x|\\omega_2\\sim\\mathcal{N}\\left(\\left(\\begin{array}{c}\n",
    " -1\\\\\n",
    " 0\\end{array}\\right),\\mathbf{I}\\right)$,  con $P (\\omega_1)=P (\\omega_2)=\\displaystyle\\frac12$. Por inspeccion establezca el limite de decision de Bayes.\n",
    "* Genere $n=100$ puntos ($50$ de $\\omega_1$ y $50$ de $\\omega_2$) y calcule el error empirico.\n",
    "* Repita el procedimiento aumentando los valores de $n$, $100\\leq n\\leq 1000$, en pasos de $100$ y grafique los errores empiricos.\n",
    "* Analice sus resultados. En particular, ¿es siempre posible que el error empirico sea mayor que la cota de Bhattacharyya o Chernoff?."
   ]
  },
  {
   "cell_type": "markdown",
   "metadata": {},
   "source": [
    "# Ejercicio 8. \n",
    "\n",
    "Utilice el ejmplo de scikit-learn para graficar las regiones de clasificacion lineal y cuadratica para Iris usando conjuntos de dos variables. \n",
    "\n",
    "https://scikit-learn.org/stable/auto_examples/classification/plot_lda_qda.html#sphx-glr-auto-examples-classification-plot-lda-qda-py\n",
    "    \n",
    "  "
   ]
  },
  {
   "cell_type": "markdown",
   "metadata": {},
   "source": [
    "<br>\n",
    "<br>"
   ]
  },
  {
   "cell_type": "markdown",
   "metadata": {},
   "source": []
  }
 ],
 "metadata": {
  "anaconda-cloud": {},
  "kernelspec": {
   "display_name": "Python 3",
   "language": "python",
   "name": "python3"
  },
  "language_info": {
   "codemirror_mode": {
    "name": "ipython",
    "version": 3
   },
   "file_extension": ".py",
   "mimetype": "text/x-python",
   "name": "python",
   "nbconvert_exporter": "python",
   "pygments_lexer": "ipython3",
   "version": "3.7.3"
  }
 },
 "nbformat": 4,
 "nbformat_minor": 2
}
