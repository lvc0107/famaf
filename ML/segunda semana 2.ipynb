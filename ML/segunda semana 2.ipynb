{
 "cells": [
  {
   "cell_type": "markdown",
   "metadata": {},
   "source": [
    "Copyright (c) 2019 [Georgina Flesia](georgina.flesia@unc.edu.ar)\n",
    "\n",
    "http://www.famaf.proed.unc.edu.ar/course/view.php?id=470\n",
    "\n"
   ]
  },
  {
   "cell_type": "markdown",
   "metadata": {},
   "source": [
    "# Python Machine Learning - Teoría bayesiana"
   ]
  },
  {
   "cell_type": "markdown",
   "metadata": {},
   "source": [
    "# Segunda semana Segundo Práctico"
   ]
  },
  {
   "cell_type": "markdown",
   "metadata": {},
   "source": [
    "Ejercicio 1.  En el caso de dos categorias, en la regla de decision de Bayes el error condicional\n",
    " esta dada por la ecuacion (7). Incluso si las densidades a posteriori son continuas, esta forma de la\n",
    " condicional de errores casi siempre conduce a un integrando discontinuo en el calculo del error total en la ecuacion (5).\n",
    "\n",
    "* Demostrar que para densidades arbitraria, podemos usar en la ecuacion (5) $$P(error|x)=2P (\\omega_1 | x) P (\\omega_2 | x)$$ y obtener una cota superior para el error total.\n",
    "* Demostrar que si en la ecuacion (5), utilizamos $P (error | x) =\\alpha P (\\omega_1 | x) P (\\omega_2 | x)$, con $\\alpha<2$, entonces no podemos garantizar que la integral de una cota superior para el error.\n",
    "* Analogamente, demostrar que podemos utilizar $$P (error | x) = P (\\omega_1 | x) P (\\omega_2 | x)$$ y obtener una cota inferior para el error total.\n",
    "* Demostrar que si $P (error | x) =\\beta P (\\omega_1 | x) P (\\omega_2 | x)$ con $\\beta> 1$, entonces no podemos garantizar que la integral de una cota inferior para el error.\n",
    "\n",
    "\n"
   ]
  },
  {
   "cell_type": "markdown",
   "metadata": {},
   "source": [
    "Ejercicio 2. Suponga que se tienen dos variables independiente con igual funcion densidad\n",
    "$$\n",
    "p(x|\\omega_i)\\propto e^{(-|x-a_i|/b_i)}\n",
    "$$\n",
    "para $i=1,2$ and $0<b_i$.\n",
    "\n",
    "* Escriba una expresi\\'on analitica para cada densidad, es decir normalize cada funcion para parametros $a_i, b_i$ arbitrarios, $b_i$ positivo.\n",
    "* Calcule el radio de verosimilitud como funcion de los parametros.\n",
    "* Graficar el radio $p(x|\\omega_1)/p(x|\\omega_2)$ para el caso $a_1=0$, $b_1=1$, $a_2=1$ y $b_2=2$.\n",
    "\n"
   ]
  },
  {
   "cell_type": "markdown",
   "metadata": {},
   "source": [
    "Ejercicio 3. Si las distribuciones condicionales para las dos categorias en el problema unidimensional son distribuciones de Cauchy\n",
    "$$\n",
    "p(x|\\omega_i)=\\frac{1}{\\pi b}. \\frac{1}{1+(\\frac{x-a_i}{b})^2}\n",
    "$$\n",
    "\n",
    "*  Por integracion explicita, compruebe que las distribuciones estan normalizadas.\n",
    "*  Suponiendo que $P(\\omega_1) = P(\\omega_2)$, muestre que $P(\\omega_1 | x) = P (\\omega_2 | x)$ si $x =\\frac{a_1 + a_2}{2}$, es decir, el minimo para las cotas de la probabilidad de error en la decision es el punto medio entre los picos de las dos distribuciones, independientemente de la b.\n",
    "*  Graficar $P(\\omega_1|x)$ para el caso de $a_1=3$, $a_2=5$ y $b = 1$.\n",
    "*  ¿Como se comportan $P (\\omega_1 | x)$ y $P (\\omega_2 | x)$ cuando $x\\rightarrow\\infty$ y cuando $x\\rightarrow-\\infty$? Explicar.\n",
    "\n"
   ]
  },
  {
   "cell_type": "markdown",
   "metadata": {},
   "source": [
    "\n",
    "Ejercicio 4. Si las distribuciones condicionales para las dos categorias en el problema unidimensional son distribuciones de Cauchy, y asuma la igualdad entre las probabilidades a priori para las categorias.\n",
    "\n",
    "* Demostrar que la probabilidad de error minimo esta dado por $$P (error) =\\displaystyle\\frac12-\\displaystyle\\frac{1}{\\pi}\\tan^{-1}\\left|\\displaystyle\\frac{a_2-a_1}{2}\\right|$$\n",
    "* Graficar esto como una funcion de $\\displaystyle\\frac{a_2-a_1}{2}$.\n",
    "* ¿Cual es el maximo de $P(error)$ y en que condiciones ocurre esto? Explicar.\n"
   ]
  },
  {
   "cell_type": "markdown",
   "metadata": {},
   "source": [
    "\n",
    "Ejercicio 5. Responda con Verdadero o Falso, y justifique:\n",
    "\n",
    "* En un problema unidimensional con dos categorias y $p(x)$ continua, una transformacion monotona de $x$ no modifica la tasa de error de Bayes.\n",
    "* En un problema bidimensional con dos categorias y $p(x)$ continua, una transformacion monotona en $x_1$ y en  $x_2$ no modifica la tasa de error de Bayes.\n",
    "\n"
   ]
  },
  {
   "cell_type": "markdown",
   "metadata": {},
   "source": [
    "Ejercicio 6. Supongamos que se sustituye la funcion de decision determinista $\\alpha(x)$ por la regla aleatoria dada por la probabilidad $P(\\alpha_i|x)$ de tomar la decisi\\'on $\\alpha_i$ dado que se observo $x$.\n",
    "\n",
    "* Mostrar que el riesgo resultante viene dado por\n",
    " $$R=\\displaystyle\\int\\left[\\displaystyle\\sum_{i=1}^aR(\\alpha_i|x)P(\\alpha_i|x)\\right]p(x)dx$$\n",
    "* Ademas, demostrar que $R$ se minimiza para $P(\\alpha_i|x)=1$ para la accion $\\alpha_i$ asociada con el riesgo condicional minimo $R(\\alpha_i|x)$, lo que demuestra que no obtenemos ningun beneficio haciendo aleatoria la regla de decision.\n",
    "* ¿Podemos beneficiarnos aleatorizando una regla suboptima? Explicar.\n",
    "\n"
   ]
  },
  {
   "cell_type": "markdown",
   "metadata": {},
   "source": [
    "<br>\n",
    "<br>"
   ]
  },
  {
   "cell_type": "markdown",
   "metadata": {},
   "source": []
  }
 ],
 "metadata": {
  "anaconda-cloud": {},
  "kernelspec": {
   "display_name": "Python 3",
   "language": "python",
   "name": "python3"
  },
  "language_info": {
   "codemirror_mode": {
    "name": "ipython",
    "version": 3
   },
   "file_extension": ".py",
   "mimetype": "text/x-python",
   "name": "python",
   "nbconvert_exporter": "python",
   "pygments_lexer": "ipython3",
   "version": "3.7.1"
  }
 },
 "nbformat": 4,
 "nbformat_minor": 2
}
