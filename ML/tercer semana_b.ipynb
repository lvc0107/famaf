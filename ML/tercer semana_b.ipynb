{
 "cells": [
  {
   "cell_type": "markdown",
   "metadata": {},
   "source": [
    "Copyright (c) 2019 [Georgina Flesia](georgina.flesia@unc.edu.ar)\n",
    "\n",
    "http://www.famaf.proed.unc.edu.ar/course/view.php?id=470\n",
    "\n"
   ]
  },
  {
   "cell_type": "markdown",
   "metadata": {},
   "source": [
    "# Python Machine Learning - Teoría bayesiana"
   ]
  },
  {
   "cell_type": "markdown",
   "metadata": {},
   "source": [
    "# Tercer semana Segundo Práctico"
   ]
  },
  {
   "cell_type": "markdown",
   "metadata": {},
   "source": [
    "\n",
    "Ejercicio 1.  Supongamos que en el marco de deteccion de una señal tenemos dos gaussianas, pero con diferentes\n",
    " varianzas, es decir, $$x|\\omega_1\\sim \\mathcal{N}(\\mu_1,\\sigma_1^2)$ y $x|\\omega_2\\sim \\mathcal{N}(\\mu_2,\\sigma_2^2)$$\n",
    "    , con $\\mu_1\\neq\\mu_2$ y $\\sigma_1^2\\neq\\sigma_2^2$.\n",
    " En este caso la curva ROC resultante no seria simetrica.\n",
    "* Supongamos que en este caso asimetrico se modifica la definicion de discriminabilidad por\n",
    "$$d_a'=\\displaystyle\\frac{|\\mu_2-\\mu_1|}{\\sqrt{\\sigma_1\\sigma_2}}$$\n",
    " Mostrar con un contraejemplo no trivial o analisis que no se puede determinar $d_a'$ basandonos unicamente en un solo par de hit and false alarm rates.\n",
    " \n",
    "* Exponer y explicar todos los valores patologicos para los cuales esta formula no da un valor significativo para $d_a'$.\n",
    "\n",
    "* Grafique las curvas ROC para el caso $x|\\omega_1\\sim\\mathcal{N}(0,1)$ y $x|\\omega_2\\sim\\mathcal{N}(1,2)$.\n",
    "\n"
   ]
  },
  {
   "cell_type": "markdown",
   "metadata": {},
   "source": [
    "Ejercicio 2. Suponiendo que $\\lambda_{21}>\\lambda_{11}$ y $\\lambda_{12}>\\lambda_{22}$, mostrar que la funcion discriminante de riesgo minimo general para el caso binario independiente descripto en la Seccion 2.9.1 esta\n",
    "dado por $$g(x)=w^Tx+\\omega_0$$, donde $w$ es constante, y\n",
    "$$\\omega_0=\\displaystyle\\sum_{i=1}^d\\ln\\displaystyle\\frac{1-p_i}{1-q_i}+\\ln\\displaystyle\\frac{P(\\omega_1)}{P(\\omega_2)}+\\ln\\displaystyle\\frac{\\lambda_{21}-\\lambda_{11}}{\\lambda_{12}-\\lambda_{22}}$$\n",
    "\n"
   ]
  },
  {
   "cell_type": "markdown",
   "metadata": {},
   "source": [
    "Ejercicio 3. La distribucion de Poisson para una variable discreta $x = 0, 1, 2,\\ldots$ y parametro real $\\lambda$ es\n",
    "$$P(x|\\lambda)=e^{-\\lambda}\\displaystyle\\frac{\\lambda^x}{x\\!}$$\n",
    "* Demostrar que la media de esta distribucion es $E [x] =\\lambda$.\n",
    "* Demuestre que la varianza de esta distribucion es $Var[x]=\\lambda$.\n",
    "* La moda de una distribucion es el valor de $x$ con mayor probabilidad.\n",
    " Demostrar que la moda de una distribucion de Poisson es el mayor entero que no exceda $\\lambda$, es decir, la moda es $\\lfloor\\lambda\\rfloor$. (Si $\\lambda$ es un numero entero, tanto $\\lambda$ como $\\lambda-1$ son modas de la distribucion.\n",
    "* Considere el problema de clasificacion en dos categorias igualmente probables con distribuciones de Poisson, pero con diferentes parametros $\\lambda_1>\\lambda_2$. ¿Cual es la regla de clasificacion de Bayes?\n",
    "* ¿Cual es la tasa del error de Bayes?\n",
    "\n"
   ]
  },
  {
   "cell_type": "markdown",
   "metadata": {},
   "source": [
    "\n",
    "Ejercicio 4. Explore como logra (o no) el error empirico acercarse a la cota de Bhattacharyya de la siguiente manera:\n",
    "* Escriba un procedimiento que genere muestras de una distribuci\\'on normal $\\mathcal{N}_d(\\mu,\\Sigma)$.\n",
    "* Considere $x|\\omega_1\\sim\\mathcal{N}\\left(\\left(\\begin{array}{c}\n",
    " 1\\\\\n",
    " 0\\end{array}\\right),\\mathbf{I}\\right)$, $x|\\omega_2\\sim\\mathcal{N}\\left(\\left(\\begin{array}{c}\n",
    " -1\\\\\n",
    " 0\\end{array}\\right),\\mathbf{I}\\right)$,  con $P (\\omega_1)=P (\\omega_2)=\\displaystyle\\frac12$. Por inspeccion establezca el limite de decision de Bayes.\n",
    "* Generar $n=100$ puntos ($50$ de $\\omega_1$ y $50$ de $\\omega_2$) y calcular el error empirico.\n",
    "* Repita el procedimiento aumentando los valores de $n$, $100\\leq n\\leq 1000$, en pasos de $100$ y grafique los errores empiricos.\n",
    "* Analice sus resultados. En particular, ¿es siempre posible que el error empirico sea mayor que la cota de Bhattacharyya o Chernoff?.\n",
    "\n",
    "\n"
   ]
  },
  {
   "cell_type": "markdown",
   "metadata": {},
   "source": [
    "\n",
    "Ejercicio 5.Escriba un programa que evalue la Red Bayesiana (Belief Network) del ejemplo 3, incluyendo la informacion\n",
    "de $P(x_i|a_j)$, $P(x_i|b_j)$,$P(c_i|x_j)$ y $P(d_i|x_j)$. Teste su programa con los calculos del ejercicio. \n",
    "Aplique su programa a los siguientes casos:\n",
    "\n",
    "* Un pez oscuro y flaco se captura en el Atlantico norte en el verano. Cual es la probabilidad de que sea un salmon?\n",
    "* Un pez flaco y mediano es capturado en el Atlantico norte. Cual es la probabilidad de que sea invierno? primavera? verano? otoño?.\n",
    "* Un pez ancho y claro es capturado en otoño. Cual es la probabilidad de que provenga del Atlantico norte?\n",
    "\n"
   ]
  },
  {
   "cell_type": "code",
   "execution_count": null,
   "metadata": {},
   "outputs": [],
   "source": []
  }
 ],
 "metadata": {
  "kernelspec": {
   "display_name": "Python 3",
   "language": "python",
   "name": "python3"
  },
  "language_info": {
   "codemirror_mode": {
    "name": "ipython",
    "version": 3
   },
   "file_extension": ".py",
   "mimetype": "text/x-python",
   "name": "python",
   "nbconvert_exporter": "python",
   "pygments_lexer": "ipython3",
   "version": "3.7.1"
  }
 },
 "nbformat": 4,
 "nbformat_minor": 2
}
